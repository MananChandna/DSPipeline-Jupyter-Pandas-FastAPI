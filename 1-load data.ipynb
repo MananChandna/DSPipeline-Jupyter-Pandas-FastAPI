{
 "cells": [
  {
   "cell_type": "code",
   "execution_count": 1,
   "id": "d57eb867-077b-4072-bfb9-fb01d662ae96",
   "metadata": {},
   "outputs": [
    {
     "name": "stderr",
     "output_type": "stream",
     "text": [
      "C:\\Users\\Dell\\AppData\\Local\\Temp\\ipykernel_15912\\3571106454.py:2: DeprecationWarning: \n",
      "Pyarrow will become a required dependency of pandas in the next major release of pandas (pandas 3.0),\n",
      "(to allow more performant data types, such as the Arrow string type, and better interoperability with other libraries)\n",
      "but was not found to be installed on your system.\n",
      "If this would cause problems for you,\n",
      "please provide us feedback at https://github.com/pandas-dev/pandas/issues/54466\n",
      "        \n",
      "  import pandas as pd\n"
     ]
    }
   ],
   "source": [
    "import os\n",
    "import pandas as pd"
   ]
  },
  {
   "cell_type": "code",
   "execution_count": 11,
   "id": "a8e56ea6-46f3-46b1-83bd-c2bdd6bb7fcd",
   "metadata": {},
   "outputs": [],
   "source": [
    "cwd = os.getcwd()\n",
    "BASE_DIR = os.path.dirname(cwd)\n",
    "DATA_DIR = os.path.join(BASE_DIR, 'data')"
   ]
  },
  {
   "cell_type": "code",
   "execution_count": 6,
   "id": "06ab1143-6c3f-4aa4-b92c-116d0a3f737f",
   "metadata": {},
   "outputs": [
    {
     "data": {
      "text/plain": [
       "['2014.csv',\n",
       " '2015.csv',\n",
       " '2016.csv',\n",
       " '2017.csv',\n",
       " '2018.csv',\n",
       " '2019.csv',\n",
       " '2020.csv',\n",
       " '2021.csv',\n",
       " '2022.csv',\n",
       " '2023.csv',\n",
       " '2024.csv']"
      ]
     },
     "execution_count": 6,
     "metadata": {},
     "output_type": "execute_result"
    }
   ],
   "source": [
    "os.listdir(DATA_DIR)"
   ]
  },
  {
   "cell_type": "code",
   "execution_count": 4,
   "id": "368ab4cc-990f-4878-9951-fbe384286fd0",
   "metadata": {},
   "outputs": [],
   "source": [
    "my_items = [{\"category\":\"Action\",\"title\":\"My awesome movies\"},{\"category\":\"Comedy\",\"title\":\"Data jokes are us\"}]\n",
    "df = pd.DataFrame(my_items)"
   ]
  },
  {
   "cell_type": "code",
   "execution_count": 5,
   "id": "8769a2db-f1a4-4132-9355-4a6cbad1e860",
   "metadata": {},
   "outputs": [
    {
     "data": {
      "text/html": [
       "<div>\n",
       "<style scoped>\n",
       "    .dataframe tbody tr th:only-of-type {\n",
       "        vertical-align: middle;\n",
       "    }\n",
       "\n",
       "    .dataframe tbody tr th {\n",
       "        vertical-align: top;\n",
       "    }\n",
       "\n",
       "    .dataframe thead th {\n",
       "        text-align: right;\n",
       "    }\n",
       "</style>\n",
       "<table border=\"1\" class=\"dataframe\">\n",
       "  <thead>\n",
       "    <tr style=\"text-align: right;\">\n",
       "      <th></th>\n",
       "      <th>category</th>\n",
       "      <th>title</th>\n",
       "    </tr>\n",
       "  </thead>\n",
       "  <tbody>\n",
       "    <tr>\n",
       "      <th>0</th>\n",
       "      <td>Action</td>\n",
       "      <td>My awesome movies</td>\n",
       "    </tr>\n",
       "    <tr>\n",
       "      <th>1</th>\n",
       "      <td>Comedy</td>\n",
       "      <td>Data jokes are us</td>\n",
       "    </tr>\n",
       "  </tbody>\n",
       "</table>\n",
       "</div>"
      ],
      "text/plain": [
       "  category              title\n",
       "0   Action  My awesome movies\n",
       "1   Comedy  Data jokes are us"
      ]
     },
     "execution_count": 5,
     "metadata": {},
     "output_type": "execute_result"
    }
   ],
   "source": [
    "df.head()"
   ]
  },
  {
   "cell_type": "code",
   "execution_count": 6,
   "id": "e98cfc5d-60c0-4dc1-87ff-c3a9b96af6cd",
   "metadata": {},
   "outputs": [
    {
     "data": {
      "text/plain": [
       "0    Action\n",
       "1    Comedy\n",
       "Name: category, dtype: object"
      ]
     },
     "execution_count": 6,
     "metadata": {},
     "output_type": "execute_result"
    }
   ],
   "source": [
    "df[\"category\"]"
   ]
  },
  {
   "cell_type": "code",
   "execution_count": 7,
   "id": "6a39f5a8-b9b3-453a-9c07-70c7ee5ab4ef",
   "metadata": {},
   "outputs": [
    {
     "data": {
      "text/plain": [
       "0    My awesome movies\n",
       "1    Data jokes are us\n",
       "Name: title, dtype: object"
      ]
     },
     "execution_count": 7,
     "metadata": {},
     "output_type": "execute_result"
    }
   ],
   "source": [
    "df[\"title\"]"
   ]
  },
  {
   "cell_type": "code",
   "execution_count": 8,
   "id": "8d237fc5-5144-4721-a516-b4e18e620312",
   "metadata": {},
   "outputs": [
    {
     "data": {
      "text/plain": [
       "category               Action\n",
       "title       My awesome movies\n",
       "Name: 0, dtype: object"
      ]
     },
     "execution_count": 8,
     "metadata": {},
     "output_type": "execute_result"
    }
   ],
   "source": [
    "df.iloc[0]"
   ]
  },
  {
   "cell_type": "code",
   "execution_count": 9,
   "id": "9c0b3a21-fda6-4bfd-b489-8d7fa447024b",
   "metadata": {},
   "outputs": [
    {
     "data": {
      "text/plain": [
       "category               Comedy\n",
       "title       Data jokes are us\n",
       "Name: 1, dtype: object"
      ]
     },
     "execution_count": 9,
     "metadata": {},
     "output_type": "execute_result"
    }
   ],
   "source": [
    "df.iloc[1]"
   ]
  },
  {
   "cell_type": "code",
   "execution_count": 12,
   "id": "47d48535-95f6-4e2e-b9c3-b84110264a0a",
   "metadata": {},
   "outputs": [
    {
     "name": "stdout",
     "output_type": "stream",
     "text": [
      "True\n"
     ]
    }
   ],
   "source": [
    "my_data = os.path.join(DATA_DIR, '2024.csv')\n",
    "print(os.path.exists(my_data))"
   ]
  },
  {
   "cell_type": "code",
   "execution_count": 13,
   "id": "75ff737c-e06b-4747-89c3-c068370e9009",
   "metadata": {},
   "outputs": [],
   "source": [
    "df2 = pd.read_csv(my_data)"
   ]
  },
  {
   "cell_type": "code",
   "execution_count": 14,
   "id": "9a61fa94-1793-40ed-a2b4-c93d1afe2dca",
   "metadata": {},
   "outputs": [
    {
     "data": {
      "text/html": [
       "<div>\n",
       "<style scoped>\n",
       "    .dataframe tbody tr th:only-of-type {\n",
       "        vertical-align: middle;\n",
       "    }\n",
       "\n",
       "    .dataframe tbody tr th {\n",
       "        vertical-align: top;\n",
       "    }\n",
       "\n",
       "    .dataframe thead th {\n",
       "        text-align: right;\n",
       "    }\n",
       "</style>\n",
       "<table border=\"1\" class=\"dataframe\">\n",
       "  <thead>\n",
       "    <tr style=\"text-align: right;\">\n",
       "      <th></th>\n",
       "      <th>Rank</th>\n",
       "      <th>Release Group</th>\n",
       "      <th>Worldwide</th>\n",
       "      <th>Domestic</th>\n",
       "      <th>%</th>\n",
       "      <th>Foreign</th>\n",
       "      <th>%.1</th>\n",
       "    </tr>\n",
       "  </thead>\n",
       "  <tbody>\n",
       "    <tr>\n",
       "      <th>0</th>\n",
       "      <td>1</td>\n",
       "      <td>The Beekeeper</td>\n",
       "      <td>$136,554,503</td>\n",
       "      <td>$57,354,503</td>\n",
       "      <td>42%</td>\n",
       "      <td>$79,200,000</td>\n",
       "      <td>58%</td>\n",
       "    </tr>\n",
       "    <tr>\n",
       "      <th>1</th>\n",
       "      <td>2</td>\n",
       "      <td>Mean Girls</td>\n",
       "      <td>$100,213,119</td>\n",
       "      <td>$70,213,119</td>\n",
       "      <td>70.1%</td>\n",
       "      <td>$30,000,000</td>\n",
       "      <td>29.9%</td>\n",
       "    </tr>\n",
       "    <tr>\n",
       "      <th>2</th>\n",
       "      <td>3</td>\n",
       "      <td>Argylle</td>\n",
       "      <td>$66,011,622</td>\n",
       "      <td>$32,878,480</td>\n",
       "      <td>49.8%</td>\n",
       "      <td>$33,133,142</td>\n",
       "      <td>50.2%</td>\n",
       "    </tr>\n",
       "    <tr>\n",
       "      <th>3</th>\n",
       "      <td>4</td>\n",
       "      <td>Night Swim</td>\n",
       "      <td>$47,324,615</td>\n",
       "      <td>$30,627,650</td>\n",
       "      <td>64.7%</td>\n",
       "      <td>$16,696,965</td>\n",
       "      <td>35.3%</td>\n",
       "    </tr>\n",
       "    <tr>\n",
       "      <th>4</th>\n",
       "      <td>5</td>\n",
       "      <td>Dune 2024 Re-release</td>\n",
       "      <td>$30,180,165</td>\n",
       "      <td>-</td>\n",
       "      <td>-</td>\n",
       "      <td>$30,180,165</td>\n",
       "      <td>100%</td>\n",
       "    </tr>\n",
       "    <tr>\n",
       "      <th>5</th>\n",
       "      <td>6</td>\n",
       "      <td>Bob Marley: One Love</td>\n",
       "      <td>$25,321,205</td>\n",
       "      <td>$25,321,205</td>\n",
       "      <td>100%</td>\n",
       "      <td>-</td>\n",
       "      <td>-</td>\n",
       "    </tr>\n",
       "    <tr>\n",
       "      <th>6</th>\n",
       "      <td>7</td>\n",
       "      <td>Mobile Suit Gundam Seed Freedom</td>\n",
       "      <td>$17,275,292</td>\n",
       "      <td>-</td>\n",
       "      <td>-</td>\n",
       "      <td>$17,275,292</td>\n",
       "      <td>100%</td>\n",
       "    </tr>\n",
       "    <tr>\n",
       "      <th>7</th>\n",
       "      <td>8</td>\n",
       "      <td>The Master and Margarita</td>\n",
       "      <td>$16,184,042</td>\n",
       "      <td>-</td>\n",
       "      <td>-</td>\n",
       "      <td>$16,184,042</td>\n",
       "      <td>100%</td>\n",
       "    </tr>\n",
       "    <tr>\n",
       "      <th>8</th>\n",
       "      <td>9</td>\n",
       "      <td>The Chosen: S4 Episodes 1-3</td>\n",
       "      <td>$14,151,668</td>\n",
       "      <td>$13,907,439</td>\n",
       "      <td>98.3%</td>\n",
       "      <td>$244,229</td>\n",
       "      <td>1.7%</td>\n",
       "    </tr>\n",
       "    <tr>\n",
       "      <th>9</th>\n",
       "      <td>10</td>\n",
       "      <td>Golden Kamuy</td>\n",
       "      <td>$13,414,307</td>\n",
       "      <td>-</td>\n",
       "      <td>-</td>\n",
       "      <td>$13,414,307</td>\n",
       "      <td>100%</td>\n",
       "    </tr>\n",
       "  </tbody>\n",
       "</table>\n",
       "</div>"
      ],
      "text/plain": [
       "   Rank                    Release Group     Worldwide     Domestic      %  \\\n",
       "0     1                    The Beekeeper  $136,554,503  $57,354,503    42%   \n",
       "1     2                       Mean Girls  $100,213,119  $70,213,119  70.1%   \n",
       "2     3                          Argylle   $66,011,622  $32,878,480  49.8%   \n",
       "3     4                       Night Swim   $47,324,615  $30,627,650  64.7%   \n",
       "4     5             Dune 2024 Re-release   $30,180,165            -      -   \n",
       "5     6             Bob Marley: One Love   $25,321,205  $25,321,205   100%   \n",
       "6     7  Mobile Suit Gundam Seed Freedom   $17,275,292            -      -   \n",
       "7     8         The Master and Margarita   $16,184,042            -      -   \n",
       "8     9      The Chosen: S4 Episodes 1-3   $14,151,668  $13,907,439  98.3%   \n",
       "9    10                     Golden Kamuy   $13,414,307            -      -   \n",
       "\n",
       "       Foreign    %.1  \n",
       "0  $79,200,000    58%  \n",
       "1  $30,000,000  29.9%  \n",
       "2  $33,133,142  50.2%  \n",
       "3  $16,696,965  35.3%  \n",
       "4  $30,180,165   100%  \n",
       "5            -      -  \n",
       "6  $17,275,292   100%  \n",
       "7  $16,184,042   100%  \n",
       "8     $244,229   1.7%  \n",
       "9  $13,414,307   100%  "
      ]
     },
     "execution_count": 14,
     "metadata": {},
     "output_type": "execute_result"
    }
   ],
   "source": [
    "df2.head(n=10)"
   ]
  },
  {
   "cell_type": "code",
   "execution_count": 15,
   "id": "1fffcb1f-9fc6-4c9c-888e-57d1a6487b17",
   "metadata": {},
   "outputs": [
    {
     "data": {
      "text/html": [
       "<div>\n",
       "<style scoped>\n",
       "    .dataframe tbody tr th:only-of-type {\n",
       "        vertical-align: middle;\n",
       "    }\n",
       "\n",
       "    .dataframe tbody tr th {\n",
       "        vertical-align: top;\n",
       "    }\n",
       "\n",
       "    .dataframe thead th {\n",
       "        text-align: right;\n",
       "    }\n",
       "</style>\n",
       "<table border=\"1\" class=\"dataframe\">\n",
       "  <thead>\n",
       "    <tr style=\"text-align: right;\">\n",
       "      <th></th>\n",
       "      <th>Rank</th>\n",
       "      <th>Release Group</th>\n",
       "      <th>Worldwide</th>\n",
       "      <th>Domestic</th>\n",
       "      <th>%</th>\n",
       "      <th>Foreign</th>\n",
       "      <th>%.1</th>\n",
       "    </tr>\n",
       "  </thead>\n",
       "  <tbody>\n",
       "    <tr>\n",
       "      <th>190</th>\n",
       "      <td>191</td>\n",
       "      <td>One from the Heart: Reprise</td>\n",
       "      <td>$41,576</td>\n",
       "      <td>$41,576</td>\n",
       "      <td>100%</td>\n",
       "      <td>-</td>\n",
       "      <td>-</td>\n",
       "    </tr>\n",
       "    <tr>\n",
       "      <th>191</th>\n",
       "      <td>192</td>\n",
       "      <td>Hundreds of Beavers</td>\n",
       "      <td>$41,431</td>\n",
       "      <td>$41,431</td>\n",
       "      <td>100%</td>\n",
       "      <td>-</td>\n",
       "      <td>-</td>\n",
       "    </tr>\n",
       "    <tr>\n",
       "      <th>192</th>\n",
       "      <td>193</td>\n",
       "      <td>Main Atal Hoon</td>\n",
       "      <td>$41,105</td>\n",
       "      <td>-</td>\n",
       "      <td>-</td>\n",
       "      <td>$41,105</td>\n",
       "      <td>100%</td>\n",
       "    </tr>\n",
       "    <tr>\n",
       "      <th>193</th>\n",
       "      <td>194</td>\n",
       "      <td>Saindhav</td>\n",
       "      <td>$39,121</td>\n",
       "      <td>-</td>\n",
       "      <td>-</td>\n",
       "      <td>$39,121</td>\n",
       "      <td>100%</td>\n",
       "    </tr>\n",
       "    <tr>\n",
       "      <th>194</th>\n",
       "      <td>195</td>\n",
       "      <td>Ape vs. Mecha Ape</td>\n",
       "      <td>$37,591</td>\n",
       "      <td>-</td>\n",
       "      <td>-</td>\n",
       "      <td>$37,591</td>\n",
       "      <td>100%</td>\n",
       "    </tr>\n",
       "    <tr>\n",
       "      <th>195</th>\n",
       "      <td>196</td>\n",
       "      <td>Honeymoon</td>\n",
       "      <td>$37,152</td>\n",
       "      <td>-</td>\n",
       "      <td>-</td>\n",
       "      <td>$37,152</td>\n",
       "      <td>100%</td>\n",
       "    </tr>\n",
       "    <tr>\n",
       "      <th>196</th>\n",
       "      <td>197</td>\n",
       "      <td>ESABAT AZEEMA (ARABIC)</td>\n",
       "      <td>$34,145</td>\n",
       "      <td>-</td>\n",
       "      <td>-</td>\n",
       "      <td>$34,145</td>\n",
       "      <td>100%</td>\n",
       "    </tr>\n",
       "    <tr>\n",
       "      <th>197</th>\n",
       "      <td>198</td>\n",
       "      <td>The Muckels</td>\n",
       "      <td>$31,813</td>\n",
       "      <td>-</td>\n",
       "      <td>-</td>\n",
       "      <td>$31,813</td>\n",
       "      <td>100%</td>\n",
       "    </tr>\n",
       "    <tr>\n",
       "      <th>198</th>\n",
       "      <td>199</td>\n",
       "      <td>Ambajipeta Marriage Band</td>\n",
       "      <td>$31,665</td>\n",
       "      <td>-</td>\n",
       "      <td>-</td>\n",
       "      <td>$31,665</td>\n",
       "      <td>100%</td>\n",
       "    </tr>\n",
       "    <tr>\n",
       "      <th>199</th>\n",
       "      <td>200</td>\n",
       "      <td>The Vourdalak</td>\n",
       "      <td>$31,590</td>\n",
       "      <td>-</td>\n",
       "      <td>-</td>\n",
       "      <td>$31,590</td>\n",
       "      <td>100%</td>\n",
       "    </tr>\n",
       "  </tbody>\n",
       "</table>\n",
       "</div>"
      ],
      "text/plain": [
       "     Rank                Release Group Worldwide Domestic     %  Foreign   %.1\n",
       "190   191  One from the Heart: Reprise   $41,576  $41,576  100%        -     -\n",
       "191   192          Hundreds of Beavers   $41,431  $41,431  100%        -     -\n",
       "192   193               Main Atal Hoon   $41,105        -     -  $41,105  100%\n",
       "193   194                     Saindhav   $39,121        -     -  $39,121  100%\n",
       "194   195            Ape vs. Mecha Ape   $37,591        -     -  $37,591  100%\n",
       "195   196                    Honeymoon   $37,152        -     -  $37,152  100%\n",
       "196   197       ESABAT AZEEMA (ARABIC)   $34,145        -     -  $34,145  100%\n",
       "197   198                  The Muckels   $31,813        -     -  $31,813  100%\n",
       "198   199     Ambajipeta Marriage Band   $31,665        -     -  $31,665  100%\n",
       "199   200                The Vourdalak   $31,590        -     -  $31,590  100%"
      ]
     },
     "execution_count": 15,
     "metadata": {},
     "output_type": "execute_result"
    }
   ],
   "source": [
    "df2.tail(n=10)"
   ]
  },
  {
   "cell_type": "code",
   "execution_count": null,
   "id": "44004978-2fee-40f8-96a0-851eb94e1fd4",
   "metadata": {},
   "outputs": [],
   "source": []
  }
 ],
 "metadata": {
  "kernelspec": {
   "display_name": "Python 3 (ipykernel)",
   "language": "python",
   "name": "python3"
  },
  "language_info": {
   "codemirror_mode": {
    "name": "ipython",
    "version": 3
   },
   "file_extension": ".py",
   "mimetype": "text/x-python",
   "name": "python",
   "nbconvert_exporter": "python",
   "pygments_lexer": "ipython3",
   "version": "3.11.7"
  }
 },
 "nbformat": 4,
 "nbformat_minor": 5
}
